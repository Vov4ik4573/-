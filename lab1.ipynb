import matplotlib.pyplot as plt
import numpy as np
from scipy.integrate import odeint

def dydt(y,t):
    k=0.42
    return -k*y
    
t=np.linspace(0,10,100)

solve=odeint(dydt,y0=1,t=t)
solve=solve.flatten()
matplotlib inline

plt.plot(t,solve,label=r"$y' = -ky$")
plt.grid(True)
plt.legend()
plt.show()
